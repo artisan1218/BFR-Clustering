{
 "cells": [
  {
   "cell_type": "code",
   "execution_count": 1,
   "metadata": {},
   "outputs": [],
   "source": [
    "import matplotlib.pyplot as plt\n",
    "import random\n",
    "import math\n",
    "from sklearn.cluster import KMeans\n",
    "from copy import deepcopy\n",
    "from itertools import combinations"
   ]
  },
  {
   "cell_type": "code",
   "execution_count": 2,
   "metadata": {},
   "outputs": [],
   "source": [
    "# Test datapoints\n",
    "num_points = 100\n",
    "points_list = list()\n",
    "for _ in range(num_points):\n",
    "    p = random.randint(0,10)\n",
    "    if p<6:\n",
    "        point = (random.uniform(-4, 3), random.uniform(-4, 3))\n",
    "    elif p>=6 and p<8:\n",
    "        point = (random.uniform(3, 5), random.uniform(3, 5))\n",
    "    else:\n",
    "        point = (random.uniform(4, 7), random.uniform(4, 7))\n",
    "    points_list.append(point)"
   ]
  },
  {
   "cell_type": "code",
   "execution_count": 3,
   "metadata": {},
   "outputs": [
    {
     "data": {
      "text/plain": [
       "<matplotlib.collections.PathCollection at 0x231c4da6470>"
      ]
     },
     "execution_count": 3,
     "metadata": {},
     "output_type": "execute_result"
    },
    {
     "data": {
      "image/png": "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\n",
      "text/plain": [
       "<Figure size 432x288 with 1 Axes>"
      ]
     },
     "metadata": {
      "needs_background": "light"
     },
     "output_type": "display_data"
    }
   ],
   "source": [
    "plt.scatter([pair[0] for pair in points_list],[pair[1] for pair in points_list], marker = '.')"
   ]
  },
  {
   "cell_type": "code",
   "execution_count": 4,
   "metadata": {},
   "outputs": [],
   "source": [
    "def kmeans(k, points_list, max_iter, initialization, n_init=3):\n",
    "    best_centroids = dict()\n",
    "    best_inertia = float('inf')\n",
    "    for n in range(n_init):\n",
    "        centroids_dict = dict() # map centroid tuple to unique and index\n",
    "        if initialization=='random':\n",
    "             selected_cent = set()\n"
    "             for cluster_idx in range(k):\n"
    "                 random_idx = random.randrange(0, len(points_list))\n"
    "                 while random_idx in selected_cent:\n"
    "                     random_idx = random.randrange(0, len(points_list))\n"
    "                 selected_cent.add(random_idx)\n"
    "                 centroids_dict[points_list[random_idx]] = cluster_idx\n"
    "            # centroids is the list of initial centorids\n",
    "        elif initialization=='farthest':\n",
    "            #initialize the initial centroids by farthest distance from each other\n",
    "            curr_sum_distance = 0\n",
    "            closest_distance = 0 \n",
    "            for kth_centroid in range(k): #first centroid is still randomly picked\n",
    "                if kth_centroid == 0:\n",
    "                    random_idx = random.randrange(0, len(points_list))\n",
    "                    centroids_dict[points_list[random_idx]] = kth_centroid\n",
    "                else:\n",
    "                    curr_sum_distance = 0\n",
    "                    # compute sum of distance to the current centroids to each other point\n",
    "                    closest_centroid = points_list[0] # in case there is only one point in points_list\n",
    "                    for point in points_list:\n",
    "                        if point not in centroids_dict.keys():\n",
    "                            for curr_cent in centroids_dict.keys():\n",
    "                                curr_sum_distance += euclideanDist(curr_cent, point)\n",
    "                            if curr_sum_distance > closest_distance:\n",
    "                                closest_distance = curr_sum_distance\n",
    "                                closest_centroid = point\n",
    "                            curr_sum_distance = 0\n",
    "                    centroids_dict[closest_centroid] = kth_centroid\n",
    "        else:\n",
    "            return 'initialization method not recognized'\n",
    "\n",
    "        convergence = False\n",
    "        curr_iter = 0\n",
    "        while not convergence and curr_iter<max_iter:\n",
    "            # assign points to clusters\n",
    "            cluster_list = list() # [(point, centroid_idx),(point, centroid_idx), ...]\n",
    "            for point in points_list:\n",
    "                #this point should be assigned to return value centroid\n",
    "                centroid = findCentroid(point, centroids_dict.keys()) \n",
    "                centroid_idx = centroids_dict[centroid]\n",
    "                cluster_list.append((point, centroid_idx))\n",
    "\n",
    "            # update centroids\n",
    "            centroids_comp = list()\n",
    "            centroids_dict_items = list(centroids_dict.items())\n",
    "\n",
    "            for old_centroid, idx in centroids_dict_items:\n",
    "                idx_cluster = list(filter(lambda pair: pair[1]==idx, cluster_list))\n",
    "                # a cluster might be empty due to bad initialization\n",
    "                if len(idx_cluster) == 0:\n",
    "                    # simply assign a random point to that cluster\n",
    "                    points = [points_list[random.randrange(0, len(points_list))]]\n",
    "                else:\n",
    "                    # list of points in this cluster\n",
    "                    points = [pair[0] for pair in idx_cluster]\n",
    "\n",
    "                # calculate new centroid\n",
    "                new_centroid = calculateNewCentroid(points, len(old_centroid))\n",
    "                # update centroids_dict\n",
    "                if new_centroid != old_centroid:\n",
    "                    # new centroid has same cluster index\n",
    "                    # add new centroid\n",
    "                    centroids_dict[new_centroid] = idx\n",
    "                    # delete old centroid\n",
    "                    del centroids_dict[old_centroid]\n",
    "\n",
    "                centroids_comp.append((old_centroid, new_centroid))\n",
    "\n",
    "            # test convergence \n",
    "            curr_iter += 1\n",
    "            convergence = all([euclideanDist(pair[0], pair[1])==0 for pair in centroids_comp])\n",
    "        # after convergence, calculate interia\n",
    "        curr_inertia = 0\n",
    "        for point in points_list:\n",
    "            #this point should be assigned to return value centroid\n",
    "            centroid = findCentroid(point, centroids_dict.keys())\n",
    "            curr_inertia += euclideanDist(point, centroid) ** 2\n",
    "        if curr_inertia < best_inertia:\n",
    "            best_inertia = curr_inertia\n",
    "            best_centroids = deepcopy(centroids_dict)\n",
    "        \n",
    "    cluster_list = list() # [(point, centroid_idx),(point, centroid_idx), ...]\n",
    "    for point in points_list:\n",
    "        #this point should be assigned to return value centroid\n",
    "        centroid = findCentroid(point, best_centroids.keys()) \n",
    "        centroid_idx = best_centroids[centroid]\n",
    "        cluster_list.append((point, centroid_idx))\n",
    "    return cluster_list, list(best_centroids.keys())"
   ]
  },
  {
   "cell_type": "code",
   "execution_count": 5,
   "metadata": {},
   "outputs": [],
   "source": [
    "def calculateNewCentroid(clusterPoints, dimensions):\n",
    "    coord_list = list()\n",
    "    for d in range(dimensions):\n",
    "        coord_list.append([pt[d] for pt in clusterPoints]) # get d-th coordinates of all points    \n",
    "    return tuple([sum(d)/len(d) for d in coord_list])\n",
    "\n",
    "def euclideanDist(pt, cent):\n",
    "    sumsq = 0\n",
    "    for d in range(len(pt)):\n",
    "        sumsq += (pt[d] - cent[d]) ** 2\n",
    "    return math.sqrt(sumsq)\n",
    "\n",
    "def findCentroid(pt, centroids):\n",
    "    reuslt_list = list()\n",
    "    for centroid in centroids:\n",
    "        ED = euclideanDist(pt, centroid) #Euclidean distance\n",
    "        reuslt_list.append((ED, centroid))\n",
    "    return sorted(reuslt_list, key=lambda pair:pair[0])[0][1]# return the centroid with min ED to pt"
   ]
  },
  {
   "cell_type": "code",
   "execution_count": 13,
   "metadata": {},
   "outputs": [
    {
     "data": {
      "image/png": "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\n",
      "text/plain": [
       "<Figure size 432x288 with 1 Axes>"
      ]
     },
     "metadata": {
      "needs_background": "light"
     },
     "output_type": "display_data"
    }
   ],
   "source": [
    "k =3\n",
    "max_iterations = 10\n",
    "\n",
    "result, centroids= kmeans(k, points_list, max_iterations, 'random', 3)\n",
    "\n",
    "idx_points_list = list()\n",
    "for i in range(k):\n",
    "    idx_points_list.append([pair[0] for pair in list(filter(lambda pair: pair[1]==i, result))])\n",
    "\n",
    "\n",
    "plt.figure(1)\n",
    "for idx_points in idx_points_list:\n",
    "    plt.scatter([pair[0] for pair in idx_points],[pair[1] for pair in idx_points], marker = '.')\n"
   ]
  },
  {
   "cell_type": "code",
   "execution_count": 10,
   "metadata": {},
   "outputs": [
    {
     "data": {
      "text/plain": [
       "<matplotlib.collections.PathCollection at 0x231c5fcd470>"
      ]
     },
     "execution_count": 10,
     "metadata": {},
     "output_type": "execute_result"
    },
    {
     "data": {
      "image/png": "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\n",
      "text/plain": [
       "<Figure size 432x288 with 1 Axes>"
      ]
     },
     "metadata": {
      "needs_background": "light"
     },
     "output_type": "display_data"
    }
   ],
   "source": [
    "result = KMeans(n_clusters=3, n_init=10).fit_predict(points_list)\n",
    "plt.scatter([pair[0] for pair in points_list], [pair[1] for pair in points_list], c=result, marker = '.')"
   ]
  },
  {
   "cell_type": "code",
   "execution_count": null,
   "metadata": {},
   "outputs": [],
   "source": []
  }
 ],
 "metadata": {
  "kernelspec": {
   "display_name": "Python 3",
   "language": "python",
   "name": "python3"
  },
  "language_info": {
   "codemirror_mode": {
    "name": "ipython",
    "version": 3
   },
   "file_extension": ".py",
   "mimetype": "text/x-python",
   "name": "python",
   "nbconvert_exporter": "python",
   "pygments_lexer": "ipython3",
   "version": "3.6.10"
  }
 },
 "nbformat": 4,
 "nbformat_minor": 4
}
